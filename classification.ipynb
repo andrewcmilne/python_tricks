{
 "cells": [
  {
   "cell_type": "markdown",
   "source": [
    "# Classification Model"
   ],
   "metadata": {}
  },
  {
   "cell_type": "markdown",
   "source": [
    "## Training/Testing/Validation of Time-series based model"
   ],
   "metadata": {}
  },
  {
   "cell_type": "code",
   "execution_count": null,
   "source": [
    "import pandas as pd\r\n",
    "import numpy as np\r\n",
    "import matplotlib.pyplot as plt\r\n",
    "import seaborn as sns\r\n",
    "import seaborn as sns\r\n",
    "from sklearn.metrics import confusion_matrix\r\n",
    "import xgboost as xgb"
   ],
   "outputs": [],
   "metadata": {}
  },
  {
   "cell_type": "code",
   "execution_count": null,
   "source": [
    "binary_target = 'some_target'\r\n",
    "features = ['f1','f2','f3']\r\n",
    "train_df = df.copy()\r\n",
    "train_df[binary_target] = np.where(train_df[binary_target]>tgt,1,0)"
   ],
   "outputs": [],
   "metadata": {}
  },
  {
   "cell_type": "code",
   "execution_count": null,
   "source": [
    "#withhold future time-series data to avoid overfitting\r\n",
    "val_size = int(train_df.shape[0]*0.10)\r\n",
    "validation_set = train_df[:val_size]\r\n",
    "train_df = train_df[val_size:]"
   ],
   "outputs": [],
   "metadata": {}
  },
  {
   "cell_type": "code",
   "execution_count": null,
   "source": [
    "print(train_df.shape)\r\n",
    "\r\n",
    "train_cols = features\r\n",
    "train_x = train_df[train_cols]\r\n",
    "train_y = train_df[binary_target] #['cst_unified_above_tgt']\r\n",
    "\r\n",
    "train_size = int(train_x.shape[0]*0.6)\r\n",
    "X_train, X_test, y_train, y_test = train_x[:train_size], train_x[train_size:]\\\r\n",
    "                , train_y[:train_size],  train_y[train_size:]\r\n",
    "\r\n",
    "#arbitrary hyperparameters, could optimize with grid/random search\r\n",
    "xgb_clf = xgb.XGBClassifier(learning_rate=0.01, \r\n",
    "                            max_depth=4, \r\n",
    "                            colsample_bytree=0.5,\r\n",
    "                            #missing=0,\r\n",
    "                            subsample=0.8,\r\n",
    "                            n_estimators=100000,\r\n",
    "                            scale_pos_weight=1.1,\r\n",
    "                           gamma=2)\r\n",
    "\r\n",
    "\r\n",
    "\r\n",
    "xgb_clf.fit(X_train, y_train, eval_set=[(X_train,y_train),(X_test, y_test)], eval_metric='auc', early_stopping_rounds=150, verbose=0)\r\n",
    "\r\n",
    "y_pred = xgb_clf.predict(X_test)"
   ],
   "outputs": [],
   "metadata": {}
  },
  {
   "cell_type": "markdown",
   "source": [
    "## Validation"
   ],
   "metadata": {}
  },
  {
   "cell_type": "code",
   "execution_count": null,
   "source": [
    "#report\r\n",
    "from sklearn.metrics import classification_report\r\n",
    "print(classification_report(y_test, y_pred, target_names=['tgt<60%','tgt>60%']))"
   ],
   "outputs": [],
   "metadata": {}
  },
  {
   "cell_type": "code",
   "execution_count": null,
   "source": [
    "import seaborn as sns\r\n",
    "#confusion matrix\r\n",
    "matrix = confusion_matrix(y_test,y_pred)\r\n",
    "\r\n",
    "#pandas dataframe\r\n",
    "dfc = pd.DataFrame(matrix)\r\n",
    "dfc = dfc.rename({0:'tgt<60%',1:'tgt>60%'},axis='index')\r\n",
    "dfc = dfc.rename({0:'Predicted_tgt<60%',1:'Predicted_tgt>60%'},axis='columns')\r\n",
    "\r\n",
    "#heatmap\r\n",
    "sns.heatmap(dfc,annot=True,cbar=None,cmap=\"Blues\",fmt='g')\r\n",
    "plt.ylabel('Real Values')\r\n",
    "plt.xlabel('predicted Values')"
   ],
   "outputs": [],
   "metadata": {}
  },
  {
   "cell_type": "markdown",
   "source": [
    "### repeat the validation above for the validation set to ensure no overfitting\r\n",
    "### can also pair with cross validation"
   ],
   "metadata": {}
  },
  {
   "cell_type": "markdown",
   "source": [],
   "metadata": {}
  }
 ],
 "metadata": {
  "orig_nbformat": 4,
  "language_info": {
   "name": "python",
   "version": "3.6.3"
  },
  "kernelspec": {
   "name": "python3",
   "display_name": "Python 3.6.3 64-bit ('base': conda)"
  },
  "interpreter": {
   "hash": "b3ba2566441a7c06988d0923437866b63cedc61552a5af99d1f4fb67d367b25f"
  }
 },
 "nbformat": 4,
 "nbformat_minor": 2
}