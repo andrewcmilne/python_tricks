{
 "cells": [
  {
   "cell_type": "markdown",
   "source": [
    "## file I/O tricks - "
   ],
   "metadata": {}
  },
  {
   "cell_type": "markdown",
   "source": [
    "## walking directory"
   ],
   "metadata": {}
  },
  {
   "cell_type": "code",
   "execution_count": 1,
   "source": [
    "import os\r\n",
    "\r\n",
    "def walk_and_record (path, file_type):\r\n",
    "    #iterate the files and clean\r\n",
    "    my_files = []\r\n",
    "    t=0\r\n",
    "    for root, dirs, files in os.walk(path):\r\n",
    "        for name in files:\r\n",
    "            # if file type is .str\r\n",
    "            if os.path.splitext(os.path.join(root, name))[1].lower() == file_type:\r\n",
    "                print(os.path.join(root, name))\r\n",
    "                filename = os.path.join(root, name)\r\n",
    "                my_files.append(filename)\r\n",
    "                print (t+1)\r\n",
    "                t += 1\r\n",
    "    return my_files"
   ],
   "outputs": [],
   "metadata": {}
  },
  {
   "cell_type": "markdown",
   "source": [
    "## ingest files to single document"
   ],
   "metadata": {}
  },
  {
   "cell_type": "code",
   "execution_count": 3,
   "source": [
    "import PyPDF2\r\n",
    "\r\n",
    "def construct_main_doc(my_files):\r\n",
    "    '''reads in pdfs from a list of files, constructs a text object'''\r\n",
    "    doc_dict = {}\r\n",
    "\r\n",
    "    for filename in my_files:\r\n",
    "\r\n",
    "        f = open(filename,'rb')\r\n",
    "\r\n",
    "        # List of every page's text.\r\n",
    "        # The index will correspond to the page number.\r\n",
    "        pdf_text = []  # zero is a placehoder to make page 1 = index 1\r\n",
    "\r\n",
    "        pdf_reader = PyPDF2.PdfFileReader(f)\r\n",
    "\r\n",
    "        for p in range(pdf_reader.numPages):\r\n",
    "            \r\n",
    "            page = pdf_reader.getPage(p)\r\n",
    "            \r\n",
    "            pdf_text.append(page.extractText())\r\n",
    "        \r\n",
    "        #add the document to the dictionary\r\n",
    "        if len(pdf_text)>0:\r\n",
    "            #ensure each page is identified as a string\r\n",
    "            pdf_text = [str(x) for x in pdf_text]\r\n",
    "            #remove linebreaks\r\n",
    "            pdf_text = [x.replace('\\n', ' ') for x in pdf_text]\r\n",
    "\r\n",
    "            out_file = ' '.join(pdf_text)\r\n",
    "            print(len(out_file))\r\n",
    "            out_f = open('./out_docs/text_documents/'+filename.split('/')[2]+'.txt', \"w\", encoding=\"utf-8\")\r\n",
    "            out_f.write(out_file)\r\n",
    "            out_f.close()\r\n",
    "            doc_dict[filename.split('/')[-1]] = out_file\r\n",
    "        else:\r\n",
    "            pass\r\n",
    "        f.close()"
   ],
   "outputs": [],
   "metadata": {}
  },
  {
   "cell_type": "code",
   "execution_count": null,
   "source": [],
   "outputs": [],
   "metadata": {}
  }
 ],
 "metadata": {
  "orig_nbformat": 4,
  "language_info": {
   "name": "python",
   "version": "3.6.3",
   "mimetype": "text/x-python",
   "codemirror_mode": {
    "name": "ipython",
    "version": 3
   },
   "pygments_lexer": "ipython3",
   "nbconvert_exporter": "python",
   "file_extension": ".py"
  },
  "kernelspec": {
   "name": "python3",
   "display_name": "Python 3.6.3 64-bit ('base': conda)"
  },
  "interpreter": {
   "hash": "b3ba2566441a7c06988d0923437866b63cedc61552a5af99d1f4fb67d367b25f"
  }
 },
 "nbformat": 4,
 "nbformat_minor": 2
}