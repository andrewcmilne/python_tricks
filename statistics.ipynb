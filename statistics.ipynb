{
 "cells": [
  {
   "cell_type": "markdown",
   "source": [
    "# Statistics"
   ],
   "metadata": {}
  },
  {
   "cell_type": "markdown",
   "source": [
    "## n-sigma outliers with log"
   ],
   "metadata": {}
  },
  {
   "cell_type": "code",
   "execution_count": 3,
   "source": [
    "import pandas as pd\r\n",
    "\r\n",
    "def nsigma_outliers(df: pd.DataFrame(), ls_columns: [], nsigma: int, output_file: str()) -> pd.DataFrame():\r\n",
    "    \"\"\"\r\n",
    "    Detects outliers within nsigma away from mean\r\n",
    "\r\n",
    "    Parameters\r\n",
    "    ----------\r\n",
    "        df:\r\n",
    "            pd.DataFrame()\r\n",
    "        ls_columns:\r\n",
    "            list of columns to be checked for outliers; if no \r\n",
    "            argument given it will take the entire columns of df\r\n",
    "        nsigma: \r\n",
    "            number of standard deviations from mean allowed\r\n",
    "        output_file:\r\n",
    "            a string containing the address to save the outlier stats file. \r\n",
    "            if left null nothing will be written\r\n",
    "    \r\n",
    "    Returns\r\n",
    "    ---------\r\n",
    "        pd.DataFrame:\r\n",
    "            a cleaned dataframe excluding the outliers\r\n",
    "        status\r\n",
    "    \"\"\"\r\n",
    "    # print(\"checking outliers\")\r\n",
    "    outlier_stat = pd.Series()\r\n",
    "    if (ls_columns[0] == \"CheckAllColumns\"):\r\n",
    "        ls_columns = df.columns\r\n",
    "    \r\n",
    "    for i in (ls_columns):\r\n",
    "        try:\r\n",
    "            if (df[i].std() != 0):\r\n",
    "                tmp = (df[i] - df[i].mean()) / df[i].std()\r\n",
    "            else:\r\n",
    "                tmp = df[i] - df[i] # zeroing all the values for the zero std column to avoid outlier\r\n",
    "            df[i] = df[i][abs(tmp)  < nsigma] # filtering the outliers\r\n",
    "            outlier_stat[i] = round((tmp[abs(tmp) > nsigma]).count() / tmp.shape[0] * 100, 1)\r\n",
    "        except:\r\n",
    "            print(\"no outlier checked for: \", i)\r\n",
    "    outlier_stat = outlier_stat.sort_values(ascending = False, na_position='last')\r\n",
    "    if output_file:\r\n",
    "        outlier_stat = outlier_stat.T\r\n",
    "        outlier_stat.to_csv(output_file) # \r\n",
    "    return df"
   ],
   "outputs": [],
   "metadata": {}
  },
  {
   "cell_type": "code",
   "execution_count": null,
   "source": [],
   "outputs": [],
   "metadata": {}
  }
 ],
 "metadata": {
  "orig_nbformat": 4,
  "language_info": {
   "name": "python",
   "version": "3.6.3",
   "mimetype": "text/x-python",
   "codemirror_mode": {
    "name": "ipython",
    "version": 3
   },
   "pygments_lexer": "ipython3",
   "nbconvert_exporter": "python",
   "file_extension": ".py"
  },
  "kernelspec": {
   "name": "python3",
   "display_name": "Python 3.6.3 64-bit ('base': conda)"
  },
  "interpreter": {
   "hash": "b3ba2566441a7c06988d0923437866b63cedc61552a5af99d1f4fb67d367b25f"
  }
 },
 "nbformat": 4,
 "nbformat_minor": 2
}