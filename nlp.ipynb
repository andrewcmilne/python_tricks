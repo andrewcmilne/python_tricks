{
 "cells": [
  {
   "cell_type": "markdown",
   "source": [
    "# NLP Tricks"
   ],
   "metadata": {}
  },
  {
   "cell_type": "markdown",
   "source": [
    "## Cleaning Text"
   ],
   "metadata": {}
  },
  {
   "cell_type": "code",
   "execution_count": null,
   "source": [
    "from nltk.stem.porter import PorterStemmer\r\n",
    "from nltk.stem.wordnet import WordNetLemmatizer\r\n",
    "from nltk.corpus import stopwords\r\n",
    "\r\n",
    "#set up the word cleaning\r\n",
    "porter=PorterStemmer()\r\n",
    "wordnet_lemmatizer = WordNetLemmatizer()\r\n",
    "nltk.download('wordnet')\r\n",
    "\r\n",
    "nltk.download('stopwords')\r\n",
    "stop = set(stopwords.words('english'))\r\n",
    "\r\n",
    "\r\n",
    "exclude = set(string.punctuation)\r\n",
    "\r\n",
    "#Create a single function to preprocess\r\n",
    "def clean(doc):\r\n",
    "    stop_free = \" \".join([i for i in doc.lower().split() if i not in stop])\r\n",
    "    punc_free = \"\".join(ch for ch in stop_free if ch not in exclude)\r\n",
    "    normalized = \" \".join(wordnet_lemmatizer.lemmatize(word) for word in punc_free.split())\r\n",
    "    return normalized"
   ],
   "outputs": [],
   "metadata": {}
  },
  {
   "cell_type": "markdown",
   "source": [
    "## Simple vectorizer to find top words for topics"
   ],
   "metadata": {}
  },
  {
   "cell_type": "code",
   "execution_count": null,
   "source": [
    "import pandas as pd\r\n",
    "from sklearn.feature_extraction.text import TfidfVectorizer\r\n",
    "from sklearn.decomposition import NMF\r\n",
    "\r\n",
    "fname = 'some_file'\r\n",
    "docs = pd.read_csv(fname)\r\n",
    "\r\n",
    "print(docs.head())\r\n",
    "print(docs.shape)\r\n",
    "\r\n",
    "tfidf = TfidfVectorizer(max_df=0.95, min_df=2, stop_words='english')\r\n",
    "\r\n",
    "dtm = tfidf.fit_transform(docs['document'])\r\n",
    "\r\n",
    "nmf_model = NMF(n_components=len(docs),random_state=42)\r\n",
    "\r\n",
    "nmf_model.fit(dtm)\r\n",
    "\r\n",
    "for index,topic in enumerate(nmf_model.components_):\r\n",
    "    print(f'THE TOP 10 WORDS FOR TOPIC #{index}')\r\n",
    "    print([tfidf.get_feature_names()[i] for i in topic.argsort()[-10:]])\r\n",
    "    print('\\n')"
   ],
   "outputs": [],
   "metadata": {}
  }
 ],
 "metadata": {
  "orig_nbformat": 4,
  "language_info": {
   "name": "python",
   "version": "3.6.3"
  },
  "kernelspec": {
   "name": "python3",
   "display_name": "Python 3.6.3 64-bit ('base': conda)"
  },
  "interpreter": {
   "hash": "b3ba2566441a7c06988d0923437866b63cedc61552a5af99d1f4fb67d367b25f"
  }
 },
 "nbformat": 4,
 "nbformat_minor": 2
}