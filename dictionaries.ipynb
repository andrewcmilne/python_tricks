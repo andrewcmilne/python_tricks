{
 "cells": [
  {
   "cell_type": "code",
   "execution_count": 1,
   "source": [
    "import pandas as pd"
   ],
   "outputs": [],
   "metadata": {}
  },
  {
   "cell_type": "markdown",
   "source": [
    "## Reverse a Dictionary"
   ],
   "metadata": {}
  },
  {
   "cell_type": "code",
   "execution_count": 6,
   "source": [
    "def invert_dict (raw_d):\r\n",
    "    '''function to flip key:value pairs of a dict of lists'''\r\n",
    "    new_d = {}\r\n",
    "    for k, v in raw_d.items():\r\n",
    "        for item in v:\r\n",
    "            new_d[item]=k\r\n",
    "    return new_d"
   ],
   "outputs": [],
   "metadata": {}
  },
  {
   "cell_type": "markdown",
   "source": [
    "## Make a Nested Dictionary From GroupBy"
   ],
   "metadata": {}
  },
  {
   "cell_type": "code",
   "execution_count": 7,
   "source": [
    "def make_nested_dict_from_grp (df, col_to_grp, col_of_interest):\r\n",
    "  '''function to construct nested dictionary from a groupby'''\r\n",
    "  my_dict = {}\r\n",
    "  for name, grp in df.groupby([col_to_grp])[col_of_interest]:\r\n",
    "    tmp = list(grp.unique())\r\n",
    "    my_dict[str(name)] = {}\r\n",
    "    for s in tmp:\r\n",
    "      df[str(name)][s] = df[(df[col_to_group]==name) & (df[col_of_interest]==s)].copy()\r\n",
    "  return my_dict"
   ],
   "outputs": [],
   "metadata": {}
  },
  {
   "cell_type": "markdown",
   "source": [
    "## "
   ],
   "metadata": {}
  }
 ],
 "metadata": {
  "orig_nbformat": 4,
  "language_info": {
   "name": "python",
   "version": "3.6.3",
   "mimetype": "text/x-python",
   "codemirror_mode": {
    "name": "ipython",
    "version": 3
   },
   "pygments_lexer": "ipython3",
   "nbconvert_exporter": "python",
   "file_extension": ".py"
  },
  "kernelspec": {
   "name": "python3",
   "display_name": "Python 3.6.3 64-bit ('base': conda)"
  },
  "interpreter": {
   "hash": "b3ba2566441a7c06988d0923437866b63cedc61552a5af99d1f4fb67d367b25f"
  }
 },
 "nbformat": 4,
 "nbformat_minor": 2
}